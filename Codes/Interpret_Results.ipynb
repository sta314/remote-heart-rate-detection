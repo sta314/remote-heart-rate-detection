{
 "cells": [
  {
   "cell_type": "code",
   "execution_count": 26,
   "metadata": {},
   "outputs": [],
   "source": [
    "import glob\n",
    "import os\n",
    "import shutil\n",
    "import numpy as np"
   ]
  },
  {
   "cell_type": "code",
   "execution_count": 27,
   "metadata": {},
   "outputs": [],
   "source": [
    "window_size_to_calculate = 3"
   ]
  },
  {
   "cell_type": "code",
   "execution_count": 28,
   "metadata": {},
   "outputs": [
    {
     "name": "stdout",
     "output_type": "stream",
     "text": [
      "Mean of whole video diff: 1.031492857142857\n",
      "Mean of windowed MAEs: 3.3195075714285713\n",
      "Mean of windowed RMSEs: 4.713954\n",
      "Mean of windowed MAPEs: 4.297695285714285\n",
      "Mean of windowed PEACORRs: 0.4569702857142857\n"
     ]
    }
   ],
   "source": [
    "# DATASET 1\n",
    "\n",
    "result_folder = 'results/DATASET_1/'\n",
    "\n",
    "# using glob, iterate over all directories that has the pattern N-gt_{gt_desired_window_size} where N is an integer\n",
    "\n",
    "all_whole_means = []\n",
    "all_windowed_MAEs = []\n",
    "all_windowed_RMSEs = []\n",
    "all_windowed_MAPEs = []\n",
    "all_windowed_PEACORRs = []\n",
    "\n",
    "for folder in glob.glob(f'{result_folder}/*-gt_{window_size_to_calculate}'):\n",
    "    with open(f'{folder}/wholemeans.txt', 'r') as f:\n",
    "        lines = f.readlines()\n",
    "        all_whole_means.append(float(lines[-1].strip()))\n",
    "    \n",
    "    with open(f'{folder}/persecondmeans.txt', 'r') as f:\n",
    "        lines = f.readlines()\n",
    "        all_windowed_MAEs.append(float(lines[2].strip()))\n",
    "        all_windowed_RMSEs.append(float(lines[3].strip()))\n",
    "        all_windowed_MAPEs.append(float(lines[4].strip()))\n",
    "        all_windowed_PEACORRs.append(float(lines[5].strip()))\n",
    "\n",
    "\n",
    "all_whole_means = np.array(all_whole_means)\n",
    "all_windowed_MAEs = np.array(all_windowed_MAEs)\n",
    "all_windowed_RMSEs = np.array(all_windowed_RMSEs)\n",
    "all_windowed_MAPEs = np.array(all_windowed_MAPEs)\n",
    "all_windowed_PEACORRs = np.array(all_windowed_PEACORRs)\n",
    "\n",
    "# print the mean of windowoed MAEs, RMSEs, MAPEs, and PEACORRs\n",
    "\n",
    "print(f'Mean of whole video diff: {np.mean(all_whole_means)}')\n",
    "print(f'Mean of windowed MAEs: {np.mean(all_windowed_MAEs)}')\n",
    "print(f'Mean of windowed RMSEs: {np.mean(all_windowed_RMSEs)}')\n",
    "print(f'Mean of windowed MAPEs: {np.mean(all_windowed_MAPEs)}')\n",
    "print(f'Mean of windowed PEACORRs: {np.mean(all_windowed_PEACORRs)}')"
   ]
  },
  {
   "cell_type": "code",
   "execution_count": 29,
   "metadata": {},
   "outputs": [
    {
     "name": "stdout",
     "output_type": "stream",
     "text": [
      "Mean of whole video diff: 5.446101390243903\n",
      "Mean of windowed MAEs: 7.994302853658536\n",
      "Mean of windowed RMSEs: 11.615082951219513\n",
      "Mean of windowed MAPEs: 130.44877653658534\n",
      "Mean of windowed PEACORRs: 0.3606723414634146\n"
     ]
    }
   ],
   "source": [
    "# DATASET 2\n",
    "\n",
    "result_folder = 'results/DATASET_2/'\n",
    "\n",
    "# using glob, iterate over all directories that has the pattern N-gt_{gt_desired_window_size} where N is an integer\n",
    "\n",
    "all_whole_means = []\n",
    "all_windowed_MAEs = []\n",
    "all_windowed_RMSEs = []\n",
    "all_windowed_MAPEs = []\n",
    "all_windowed_PEACORRs = []\n",
    "\n",
    "for folder in glob.glob(f'{result_folder}/subject*_{window_size_to_calculate}'):\n",
    "    with open(f'{folder}/wholemeans.txt', 'r') as f:\n",
    "        lines = f.readlines()\n",
    "        all_whole_means.append(float(lines[-1].strip()))\n",
    "    \n",
    "    with open(f'{folder}/persecondmeans.txt', 'r') as f:\n",
    "        lines = f.readlines()\n",
    "        all_windowed_MAEs.append(float(lines[2].strip()))\n",
    "        all_windowed_RMSEs.append(float(lines[3].strip()))\n",
    "        all_windowed_MAPEs.append(float(lines[4].strip()))\n",
    "        all_windowed_PEACORRs.append(float(lines[5].strip()))\n",
    "\n",
    "\n",
    "all_whole_means = np.array(all_whole_means)\n",
    "all_windowed_MAEs = np.array(all_windowed_MAEs)\n",
    "all_windowed_RMSEs = np.array(all_windowed_RMSEs)\n",
    "all_windowed_MAPEs = np.array(all_windowed_MAPEs)\n",
    "all_windowed_PEACORRs = np.array(all_windowed_PEACORRs)\n",
    "\n",
    "# print the mean of windowoed MAEs, RMSEs, MAPEs, and PEACORRs\n",
    "\n",
    "print(f'Mean of whole video diff: {np.mean(all_whole_means)}')\n",
    "print(f'Mean of windowed MAEs: {np.mean(all_windowed_MAEs)}')\n",
    "print(f'Mean of windowed RMSEs: {np.mean(all_windowed_RMSEs)}')\n",
    "print(f'Mean of windowed MAPEs: {np.mean(all_windowed_MAPEs)}')\n",
    "print(f'Mean of windowed PEACORRs: {np.mean(all_windowed_PEACORRs)}')"
   ]
  },
  {
   "cell_type": "code",
   "execution_count": 30,
   "metadata": {},
   "outputs": [
    {
     "name": "stdout",
     "output_type": "stream",
     "text": [
      "Mean of whole video diff: 4.8023043125\n",
      "Mean of windowed MAEs: 7.312561875\n",
      "Mean of windowed RMSEs: 10.6086683125\n",
      "Mean of windowed MAPEs: 112.05174385416667\n",
      "Mean of windowed PEACORRs: 0.37471579166666674\n"
     ]
    }
   ],
   "source": [
    "# MERGED\n",
    "\n",
    "result_folder = 'results/BOTH/'\n",
    "\n",
    "# using glob, iterate over all directories that has the pattern N-gt_{gt_desired_window_size} where N is an integer\n",
    "\n",
    "all_whole_means = []\n",
    "all_windowed_MAEs = []\n",
    "all_windowed_RMSEs = []\n",
    "all_windowed_MAPEs = []\n",
    "all_windowed_PEACORRs = []\n",
    "\n",
    "for folder in glob.glob(f'{result_folder}/*-gt_{window_size_to_calculate}'):\n",
    "    with open(f'{folder}/wholemeans.txt', 'r') as f:\n",
    "        lines = f.readlines()\n",
    "        all_whole_means.append(float(lines[-1].strip()))\n",
    "    \n",
    "    with open(f'{folder}/persecondmeans.txt', 'r') as f:\n",
    "        lines = f.readlines()\n",
    "        all_windowed_MAEs.append(float(lines[2].strip()))\n",
    "        all_windowed_RMSEs.append(float(lines[3].strip()))\n",
    "        all_windowed_MAPEs.append(float(lines[4].strip()))\n",
    "        all_windowed_PEACORRs.append(float(lines[5].strip()))\n",
    "\n",
    "for folder in glob.glob(f'{result_folder}/subject*_{window_size_to_calculate}'):\n",
    "    with open(f'{folder}/wholemeans.txt', 'r') as f:\n",
    "        lines = f.readlines()\n",
    "        all_whole_means.append(float(lines[-1].strip()))\n",
    "    \n",
    "    with open(f'{folder}/persecondmeans.txt', 'r') as f:\n",
    "        lines = f.readlines()\n",
    "        all_windowed_MAEs.append(float(lines[2].strip()))\n",
    "        all_windowed_RMSEs.append(float(lines[3].strip()))\n",
    "        all_windowed_MAPEs.append(float(lines[4].strip()))\n",
    "        all_windowed_PEACORRs.append(float(lines[5].strip()))\n",
    "\n",
    "\n",
    "all_whole_means = np.array(all_whole_means)\n",
    "all_windowed_MAEs = np.array(all_windowed_MAEs)\n",
    "all_windowed_RMSEs = np.array(all_windowed_RMSEs)\n",
    "all_windowed_MAPEs = np.array(all_windowed_MAPEs)\n",
    "all_windowed_PEACORRs = np.array(all_windowed_PEACORRs)\n",
    "\n",
    "# print the mean of windowoed MAEs, RMSEs, MAPEs, and PEACORRs\n",
    "\n",
    "print(f'Mean of whole video diff: {np.mean(all_whole_means)}')\n",
    "print(f'Mean of windowed MAEs: {np.mean(all_windowed_MAEs)}')\n",
    "print(f'Mean of windowed RMSEs: {np.mean(all_windowed_RMSEs)}')\n",
    "print(f'Mean of windowed MAPEs: {np.mean(all_windowed_MAPEs)}')\n",
    "print(f'Mean of windowed PEACORRs: {np.mean(all_windowed_PEACORRs)}')"
   ]
  }
 ],
 "metadata": {
  "kernelspec": {
   "display_name": "Python 3",
   "language": "python",
   "name": "python3"
  },
  "language_info": {
   "codemirror_mode": {
    "name": "ipython",
    "version": 3
   },
   "file_extension": ".py",
   "mimetype": "text/x-python",
   "name": "python",
   "nbconvert_exporter": "python",
   "pygments_lexer": "ipython3",
   "version": "3.10.0"
  }
 },
 "nbformat": 4,
 "nbformat_minor": 2
}
