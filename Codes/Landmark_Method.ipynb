{
 "cells": [
  {
   "cell_type": "code",
   "execution_count": 1,
   "metadata": {},
   "outputs": [],
   "source": [
    "import os\n",
    "import cv2\n",
    "import neurokit2 as nk\n",
    "import numpy as np\n",
    "import dlib\n",
    "import matplotlib.pyplot as plt"
   ]
  },
  {
   "cell_type": "code",
   "execution_count": 2,
   "metadata": {},
   "outputs": [],
   "source": [
    "root = './UBFC_DATASET/DATASET_1/'\n",
    "\n",
    "dirs = [d for d in os.listdir(root) if os.path.isdir(os.path.join(root, d))]\n",
    "\n",
    "dir_name = dirs[4]\n",
    "vid_folder = os.path.join(root, dir_name)\n",
    "\n",
    "gt_filename = os.path.join(vid_folder, 'gtdump.xmp')\n",
    "if os.path.isfile(gt_filename):\n",
    "    gt_data = np.genfromtxt(gt_filename, delimiter=',')\n",
    "    gt_time = gt_data[:, 0] / 1000\n",
    "    gt_hr = gt_data[:, 1]\n",
    "    gt_trace = gt_data[:, 3]\n",
    "else:\n",
    "    gt_filename = os.path.join(vid_folder, 'ground_truth.txt')\n",
    "    if os.path.isfile(gt_filename):\n",
    "        gt_data = np.genfromtxt(gt_filename, delimiter=' ')\n",
    "        gt_trace = gt_data[:, 0]\n",
    "        gt_hr = gt_data[:, 1]\n",
    "        gt_time = gt_data[:, 2]\n",
    "\n",
    "gt_trace = (gt_trace - np.mean(gt_trace)) / np.std(gt_trace)"
   ]
  },
  {
   "cell_type": "code",
   "execution_count": 3,
   "metadata": {},
   "outputs": [
    {
     "name": "stdout",
     "output_type": "stream",
     "text": [
      "dir_name: 6-gt\n",
      "vid_folder: ./UBFC_DATASET/DATASET_1/6-gt\n",
      "gt_trace shape: (5192,)\n",
      "gt_hr shape: (5192,)\n",
      "gt_time shape: (5192,)\n"
     ]
    }
   ],
   "source": [
    "print(\"dir_name:\", dir_name)\n",
    "print(\"vid_folder:\", vid_folder)\n",
    "print(\"gt_trace shape:\", gt_trace.shape)\n",
    "print(\"gt_hr shape:\", gt_hr.shape)\n",
    "print(\"gt_time shape:\", gt_time.shape)"
   ]
  },
  {
   "cell_type": "code",
   "execution_count": 4,
   "metadata": {},
   "outputs": [],
   "source": [
    "import dlib\n",
    "import cv2\n",
    "vid_path = os.path.join(vid_folder, 'vid.avi')\n",
    "vidObj = cv2.VideoCapture(vid_path)\n",
    "face_list = []\n",
    "\n",
    "fps = vidObj.get(cv2.CAP_PROP_FPS)\n",
    "first_frame = True\n",
    "tracker = dlib.correlation_tracker()\n",
    "\n",
    "# Load the face detector and the shape predictor\n",
    "detector = dlib.get_frontal_face_detector()\n",
    "predictor = dlib.shape_predictor(\"shape_predictor_81_face_landmarks.dat\")\n",
    "\n",
    "left_cheek_signal = []\n",
    "right_cheek_signal = []\n",
    "forehead_signal = []\n",
    "chin_signal = []\n",
    "\n",
    "# Function to extract facial landmarks\n",
    "def extract_facial_landmarks(image):\n",
    "    gray = cv2.cvtColor(image, cv2.COLOR_BGR2GRAY)\n",
    "    faces = detector(gray)\n",
    "    landmarks = []\n",
    "    for face in faces:\n",
    "        shape = predictor(gray, face)\n",
    "        for i in range(81):\n",
    "            x = shape.part(i).x\n",
    "            y = shape.part(i).y\n",
    "            landmarks.append((x, y))\n",
    "    return landmarks\n",
    "\n",
    "def calculate_mean_pixel_values(frame, points):\n",
    "    mask = np.zeros(frame.shape[:2], dtype=np.uint8)\n",
    "    cv2.fillPoly(mask, [points], 255)\n",
    "    masked_frame = cv2.bitwise_and(frame, frame, mask=mask)\n",
    "    mean_values = np.sum(masked_frame, axis=(0, 1)) / np.count_nonzero(mask)\n",
    "    return mean_values\n",
    "\n",
    "# Open the video file\n",
    "vidObj = cv2.VideoCapture(vid_path)\n",
    "\n",
    "# Process each frame of the video\n",
    "while True:\n",
    "    ret, frame = vidObj.read()\n",
    "    if not ret:\n",
    "        break\n",
    "    \n",
    "    # Extract facial landmarks\n",
    "    landmarks = extract_facial_landmarks(frame)\n",
    "\n",
    "    # Extract signals from corresponding face patches\n",
    "    left_cheek_signal.append(calculate_mean_pixel_values(frame, np.array(landmarks)[[4, 29, 1]]))\n",
    "    right_cheek_signal.append(calculate_mean_pixel_values(frame, np.array(landmarks)[[29, 12, 15]]))\n",
    "    forehead_signal.append(calculate_mean_pixel_values(frame, np.array(landmarks)[[19, 24, 72, 69]]))\n",
    "    chin_signal.append(calculate_mean_pixel_values(frame, np.array(landmarks)[[8, 12, 57, 4]]))\n",
    "    \n",
    "\n",
    "left_cheek_signal    = np.array(left_cheek_signal)\n",
    "right_cheek_signal   = np.array(right_cheek_signal)\n",
    "forehead_signal      = np.array(forehead_signal)\n",
    "chin_signal          = np.array(chin_signal)"
   ]
  },
  {
   "cell_type": "code",
   "execution_count": 5,
   "metadata": {},
   "outputs": [
    {
     "data": {
      "text/plain": [
       "(2383, 3)"
      ]
     },
     "execution_count": 5,
     "metadata": {},
     "output_type": "execute_result"
    }
   ],
   "source": [
    "left_cheek_signal.shape"
   ]
  },
  {
   "cell_type": "code",
   "execution_count": 6,
   "metadata": {},
   "outputs": [
    {
     "data": {
      "text/plain": [
       "(306, 200)"
      ]
     },
     "execution_count": 6,
     "metadata": {},
     "output_type": "execute_result"
    }
   ],
   "source": [
    "landmarks[0]"
   ]
  },
  {
   "cell_type": "code",
   "execution_count": 7,
   "metadata": {},
   "outputs": [
    {
     "data": {
      "image/png": "[encoded data removed]",
      "text/plain": [
       "<Figure size 640x480 with 1 Axes>"
      ]
     },
     "metadata": {},
     "output_type": "display_data"
    }
   ],
   "source": [
    "import matplotlib.pyplot as plt\n",
    "plt.plot(gt_time, gt_hr)\n",
    "plt.xlabel('Time (s)')\n",
    "plt.ylabel('GT Heart rate (bpm)')\n",
    "plt.show()"
   ]
  },
  {
   "cell_type": "code",
   "execution_count": 8,
   "metadata": {},
   "outputs": [],
   "source": [
    "means = np.array([left_cheek_signal, right_cheek_signal, forehead_signal, chin_signal])\n",
    "for i in range(means.shape[0]):\n",
    "    means[i, :,0] = (means[i, :,0] - np.average(means[i, :,0]))/np.std(means[i, :,0])\n",
    "    means[i, :,1] = (means[i, :,1] - np.average(means[i, :,1]))/np.std(means[i, :,1])\n",
    "    means[i, :,2] = (means[i, :,2] - np.average(means[i, :,2]))/np.std(means[i, :,2])"
   ]
  },
  {
   "cell_type": "code",
   "execution_count": 9,
   "metadata": {},
   "outputs": [],
   "source": [
    "# Detrending means\n",
    "\n",
    "detrended_means = means\n",
    "for i in range(means.shape[0]):\n",
    "    detrended_means[i, :,0] = nk.signal_detrend(means[i, :,0], method=\"tarvainen2002\", regularization=120)\n",
    "    detrended_means[i, :,1] = nk.signal_detrend(means[i, :,1], method=\"tarvainen2002\", regularization=120)\n",
    "    detrended_means[i, :,2] = nk.signal_detrend(means[i, :,2], method=\"tarvainen2002\", regularization=120)"
   ]
  },
  {
   "cell_type": "code",
   "execution_count": 10,
   "metadata": {},
   "outputs": [],
   "source": [
    "# Moving average filter\n",
    "\n",
    "window_size = int(fps*0.18)\n",
    "kernel = np.ones(window_size) / window_size\n",
    "filtered_means = detrended_means\n",
    "\n",
    "for i in range(means.shape[0]):\n",
    "    filtered_means[i, :,0] = np.convolve(filtered_means[i, :,0],kernel,'same')\n",
    "    filtered_means[i, :,1] = np.convolve(filtered_means[i, :,1],kernel,'same')\n",
    "    filtered_means[i, :,2] = np.convolve(filtered_means[i, :,2],kernel,'same')"
   ]
  },
  {
   "cell_type": "code",
   "execution_count": 11,
   "metadata": {},
   "outputs": [],
   "source": [
    "# PCA decomposition\n",
    "\n",
    "from sklearn.decomposition import FastICA\n",
    "\n",
    "transformer = FastICA(n_components = 3)\n",
    "\n",
    "independent_signals = np.zeros((means.shape))\n",
    "for i in range(means.shape[0]):\n",
    "    independent_signals[i] = transformer.fit_transform(filtered_means[i])"
   ]
  },
  {
   "cell_type": "code",
   "execution_count": 12,
   "metadata": {},
   "outputs": [],
   "source": [
    "# Calculating PSD\n",
    "\n",
    "from scipy.signal import periodogram\n",
    "\n",
    "\n",
    "signals = np.zeros(independent_signals.shape[:2])\n",
    "for i in range(means.shape[0]):\n",
    "    (f_r, S_r) = periodogram(independent_signals[i, :,0], fps, scaling='density')\n",
    "    (f_g, S_g) = periodogram(independent_signals[i, :,1], fps, scaling='density')\n",
    "    (f_b, S_b) = periodogram(independent_signals[i, :,2], fps, scaling='density')\n",
    "\n",
    "    signals[i] = independent_signals[i, :,np.argmax([max(S_r),max(S_g),max(S_b)])]"
   ]
  },
  {
   "cell_type": "code",
   "execution_count": 13,
   "metadata": {},
   "outputs": [],
   "source": [
    "# Applying bandpass filter between 0.8 Hz and 2 Hz\n",
    "\n",
    "import numpy as np\n",
    "from scipy.signal import butter, lfilter\n",
    "\n",
    "def butter_bandpass(lowcut, highcut, fs, order=5):\n",
    "    nyq = 0.5 * fs\n",
    "    low = lowcut / nyq\n",
    "    high = highcut / nyq\n",
    "    b, a = butter(order, [low, high], btype='bandpass')\n",
    "    return b, a\n",
    "\n",
    "def butter_bandpass_filter(data, lowcut, highcut, fs, order=5):\n",
    "    b, a = butter_bandpass(lowcut, highcut, fs, order=order)\n",
    "    y = lfilter(b, a, data)\n",
    "    return y\n",
    "\n",
    "\n",
    "final_signals = np.zeros(signals.shape[:2])\n",
    "for i in range(signals.shape[0]):\n",
    "    final_signals[i] = butter_bandpass_filter(signals[i], 0.8, 2, fps, order=5)"
   ]
  },
  {
   "cell_type": "code",
   "execution_count": 14,
   "metadata": {},
   "outputs": [
    {
     "name": "stdout",
     "output_type": "stream",
     "text": [
      "0\n",
      "0.8181625883340328\n",
      "0.8630616629120769\n",
      "1\n",
      "1.3836573185060848\n",
      "6.713913699037875\n",
      "2\n",
      "0.8542579966428872\n",
      "1.8988077195876736\n",
      "3\n",
      "0.9986396298783047\n",
      "0.5019880463761597\n"
     ]
    }
   ],
   "source": [
    "final_signal = np.zeros(final_signals.shape[1])\n",
    "\n",
    "idx_max = -1\n",
    "S_max = -np.inf\n",
    "\n",
    "for i in range(means.shape[0]):\n",
    "    f, S = periodogram(final_signals[i], fps, scaling='density')\n",
    "    print(i)\n",
    "    print(f[np.argmax(S)])\n",
    "    print(S[np.argmax(S)])\n",
    "    if max(S) > S_max:\n",
    "        idx_max = i\n",
    "        S_max = max(S)\n",
    "\n",
    "final_signal = final_signals[idx_max]"
   ]
  },
  {
   "cell_type": "code",
   "execution_count": 15,
   "metadata": {},
   "outputs": [
    {
     "data": {
      "image/png": "[encoded data removed]",
      "text/plain": [
       "<Figure size 640x480 with 1 Axes>"
      ]
     },
     "metadata": {},
     "output_type": "display_data"
    }
   ],
   "source": [
    "# Taking frequency with the highest power as the pulse signal\n",
    "\n",
    "values = []\n",
    "\n",
    "window = 6\n",
    "\n",
    "lower_bound = window\n",
    "upper_bound = int(final_signal.shape[0] / fps) - window\n",
    "\n",
    "for i in range(lower_bound, upper_bound, 1):\n",
    "    x = (final_signal[int((i - window) * fps):int((i + window) * fps)])\n",
    "    (f_r, S_r) = periodogram(x, fps, nfft=len(x) * 4, scaling='density')\n",
    "\n",
    "    f = f_r[S_r.argmax()]\n",
    "\n",
    "    hr = 60 *f\n",
    "    if i == window:\n",
    "        values.extend([hr] * window)\n",
    "\n",
    "    values.append(hr)\n",
    "\n",
    "\n",
    "values.extend([values[-1]] * window)\n",
    "\n",
    "import matplotlib.pyplot as plt\n",
    "\n",
    "plt.plot(values)\n",
    "plt.plot(gt_time, gt_hr)\n",
    "plt.xlabel('Seconds')\n",
    "plt.ylabel('Heart Rate')\n",
    "plt.show()"
   ]
  },
  {
   "cell_type": "code",
   "execution_count": 16,
   "metadata": {},
   "outputs": [
    {
     "name": "stdout",
     "output_type": "stream",
     "text": [
      "81.74936145595527\n",
      "82.57338212634822\n"
     ]
    }
   ],
   "source": [
    "# Mean heart rate in the GT signal\n",
    "print(np.mean(values))\n",
    "print(np.mean(gt_hr))"
   ]
  }
 ],
 "metadata": {
  "kernelspec": {
   "display_name": "Python 3",
   "language": "python",
   "name": "python3"
  },
  "language_info": {
   "codemirror_mode": {
    "name": "ipython",
    "version": 3
   },
   "file_extension": ".py",
   "mimetype": "text/x-python",
   "name": "python",
   "nbconvert_exporter": "python",
   "pygments_lexer": "ipython3",
   "version": "3.10.0"
  }
 },
 "nbformat": 4,
 "nbformat_minor": 2
}
